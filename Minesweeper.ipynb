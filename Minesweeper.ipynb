{
  "nbformat": 4,
  "nbformat_minor": 0,
  "metadata": {
    "colab": {
      "name": "Untitled2.ipynb",
      "provenance": [],
      "authorship_tag": "ABX9TyM4dNPjox5C8sz1HeiS9ZRb",
      "include_colab_link": true
    },
    "kernelspec": {
      "name": "python3",
      "display_name": "Python 3"
    }
  },
  "cells": [
    {
      "cell_type": "markdown",
      "metadata": {
        "id": "view-in-github",
        "colab_type": "text"
      },
      "source": [
        "<a href=\"https://colab.research.google.com/github/minh-c-nguyen/Python/blob/master/Minesweeper.ipynb\" target=\"_parent\"><img src=\"https://colab.research.google.com/assets/colab-badge.svg\" alt=\"Open In Colab\"/></a>"
      ]
    },
    {
      "cell_type": "code",
      "metadata": {
        "id": "3EumSM6sXPDM",
        "colab_type": "code",
        "colab": {}
      },
      "source": [
        "import tkinter\n",
        "import random"
      ],
      "execution_count": 0,
      "outputs": []
    },
    {
      "cell_type": "code",
      "metadata": {
        "id": "KC72i5TiXUVp",
        "colab_type": "code",
        "colab": {}
      },
      "source": [
        "gameOver = False\n",
        "score = 0\n",
        "squaresToClear = 0\n",
        "size = int(input('Enter the size of your minefield: '))"
      ],
      "execution_count": 0,
      "outputs": []
    },
    {
      "cell_type": "code",
      "metadata": {
        "id": "qtZBFLznXWyx",
        "colab_type": "code",
        "colab": {}
      },
      "source": [
        "# Define the game function to call\n",
        "def play_minesweeper():\n",
        "    create_minefield(minefield)\n",
        "    window = tkinter.Tk()\n",
        "    layout_window(window)\n",
        "    window.mainloop()"
      ],
      "execution_count": 0,
      "outputs": []
    },
    {
      "cell_type": "code",
      "metadata": {
        "id": "7I1yJLjbXZFx",
        "colab_type": "code",
        "colab": {}
      },
      "source": [
        "minefield = []\n",
        "\n",
        "# Generate mines at random places in the field\n",
        "def create_minefield(minefield):\n",
        "    global squaresToClear\n",
        "\n",
        "    for row in range(0,size):\n",
        "        rowList = []\n",
        "        for column in range(0,size):\n",
        "            if random.randint(1,100) < 20:\n",
        "                rowList.append(1)\n",
        "            else:\n",
        "                rowList.append(0)\n",
        "                squaresToClear = squaresToClear + 1\n",
        "        minefield.append(rowList)"
      ],
      "execution_count": 0,
      "outputs": []
    },
    {
      "cell_type": "code",
      "metadata": {
        "id": "Qq6tDyAnXdRB",
        "colab_type": "code",
        "colab": {}
      },
      "source": [
        "def printfield(minefield):\n",
        "    for rowList in minefield:\n",
        "        print(rowList)"
      ],
      "execution_count": 0,
      "outputs": []
    },
    {
      "cell_type": "code",
      "metadata": {
        "id": "QTLYvxghXiTZ",
        "colab_type": "code",
        "colab": {}
      },
      "source": [
        "# Discretize the mine field\n",
        "def layout_window(window):\n",
        "    for rowNumber, rowList in enumerate(minefield):\n",
        "        for columnNumber, columnEntry in enumerate(rowList):\n",
        "            if random.randint(1,100) < 25:\n",
        "                square = tkinter.Label(window, text = \"    \", bg= \"darkgreen\")\n",
        "            elif random.randint(1,100) > 75:\n",
        "                square = tkinter.Label(window, text = \"    \", bg= \"lightgrey\")\n",
        "            else:\n",
        "                square = tkinter.Label(window, text = \"    \", bg= \"green\")\n",
        "            square.grid(row = rowNumber, column = columnNumber)\n",
        "            square.bind(\"<Button-1>\", on_click)"
      ],
      "execution_count": 0,
      "outputs": []
    },
    {
      "cell_type": "code",
      "metadata": {
        "id": "SHr7QLDaXsnJ",
        "colab_type": "code",
        "colab": {}
      },
      "source": [
        "# Function to control the mouse \n",
        "def on_click(event):\n",
        "    global score\n",
        "    global gameOver\n",
        "    global squaresToClear\n",
        "    square = event.widget\n",
        "    row = int(square.grid_info()[\"row\"])\n",
        "    column = int(square.grid_info()[\"column\"])\n",
        "    currentText = square.cget(\"text\")\n",
        "    if gameOver == False:\n",
        "        if minefield[row][column] == 1:\n",
        "            gameOver = True\n",
        "            square.config(bg = \"red\")\n",
        "            print(\"Game Over! You hit a mine!\")\n",
        "            print(\"Your score was: \", score)\n",
        "        elif currentText == \"    \":\n",
        "            square.config(bg = \"yellow\")\n",
        "            totalmines = 0\n",
        " \n",
        "            if row < size-1:\n",
        "                if minefield[row+1][column] == 1:\n",
        "                    totalmines = totalmines + 1\n",
        "            \n",
        "            if row > 0:\n",
        "                if minefield[row-1][column] == 1:\n",
        "                    totalmines = totalmines + 1\n",
        "            \n",
        "            if column > 0:\n",
        "                if minefield[row][column-1] == 1:\n",
        "                    totalmines = totalmines + 1\n",
        "             \n",
        "            if column < size-1:\n",
        "                if minefield[row][column+1] == 1:\n",
        "                    totalmines = totalmines + 1\n",
        "             \n",
        "            if row > 0 and column > 0:\n",
        "                if minefield[row-1][column-1] == 1:\n",
        "                    totalmines = totalmines +1\n",
        "             \n",
        "            if row < size-1 and column > 0:\n",
        "                if minefield[row+1][column-1] == 1:\n",
        "                    totalmines = totalmines + 1\n",
        "              \n",
        "            if row > 0 and column < size-1:\n",
        "                if minefield[row-1][column+1] == 1:\n",
        "                    totalmines = totalmines + 1\n",
        "            \n",
        "            if row < size-1 and column < size-1:\n",
        "                if minefield[row+1][column+1] == 1:\n",
        "                    totalmines = totalmines + 1\n",
        "\n",
        "\n",
        "            square.config(text = \" \" + str(totalmines) + \" \")\n",
        "            squaresToClear = squaresToClear -1\n",
        "            score = score +1\n",
        "            if squaresToClear ==0:\n",
        "                gameOver = True\n",
        "                print(\"Well done! You found all the safe squares!\")\n",
        "                print(\"Your score was:\", score)"
      ],
      "execution_count": 0,
      "outputs": []
    },
    {
      "cell_type": "code",
      "metadata": {
        "id": "l5he1GS3XwXI",
        "colab_type": "code",
        "colab": {
          "base_uri": "https://localhost:8080/",
          "height": 303
        },
        "outputId": "bd4815cf-8e91-4894-d808-6660c5b88b4a"
      },
      "source": [
        "# Call the Minesweeper game\n",
        "play_minesweeper()  "
      ],
      "execution_count": 13,
      "outputs": [
        {
          "output_type": "error",
          "ename": "TclError",
          "evalue": "ignored",
          "traceback": [
            "\u001b[0;31m---------------------------------------------------------------------------\u001b[0m",
            "\u001b[0;31mTclError\u001b[0m                                  Traceback (most recent call last)",
            "\u001b[0;32m<ipython-input-13-8ec9e8f26644>\u001b[0m in \u001b[0;36m<module>\u001b[0;34m()\u001b[0m\n\u001b[0;32m----> 1\u001b[0;31m \u001b[0mplay_minesweeper\u001b[0m\u001b[0;34m(\u001b[0m\u001b[0;34m)\u001b[0m\u001b[0;34m\u001b[0m\u001b[0;34m\u001b[0m\u001b[0m\n\u001b[0m",
            "\u001b[0;32m<ipython-input-8-921985e8b93a>\u001b[0m in \u001b[0;36mplay_minesweeper\u001b[0;34m()\u001b[0m\n\u001b[1;32m      1\u001b[0m \u001b[0;32mdef\u001b[0m \u001b[0mplay_minesweeper\u001b[0m\u001b[0;34m(\u001b[0m\u001b[0;34m)\u001b[0m\u001b[0;34m:\u001b[0m\u001b[0;34m\u001b[0m\u001b[0;34m\u001b[0m\u001b[0m\n\u001b[1;32m      2\u001b[0m     \u001b[0mcreate_minefield\u001b[0m\u001b[0;34m(\u001b[0m\u001b[0mminefield\u001b[0m\u001b[0;34m)\u001b[0m\u001b[0;34m\u001b[0m\u001b[0;34m\u001b[0m\u001b[0m\n\u001b[0;32m----> 3\u001b[0;31m     \u001b[0mwindow\u001b[0m \u001b[0;34m=\u001b[0m \u001b[0mtkinter\u001b[0m\u001b[0;34m.\u001b[0m\u001b[0mTk\u001b[0m\u001b[0;34m(\u001b[0m\u001b[0;34m)\u001b[0m\u001b[0;34m\u001b[0m\u001b[0;34m\u001b[0m\u001b[0m\n\u001b[0m\u001b[1;32m      4\u001b[0m     \u001b[0mlayout_window\u001b[0m\u001b[0;34m(\u001b[0m\u001b[0mwindow\u001b[0m\u001b[0;34m)\u001b[0m\u001b[0;34m\u001b[0m\u001b[0;34m\u001b[0m\u001b[0m\n\u001b[1;32m      5\u001b[0m     \u001b[0mwindow\u001b[0m\u001b[0;34m.\u001b[0m\u001b[0mmainloop\u001b[0m\u001b[0;34m(\u001b[0m\u001b[0;34m)\u001b[0m\u001b[0;34m\u001b[0m\u001b[0;34m\u001b[0m\u001b[0m\n",
            "\u001b[0;32m/usr/lib/python3.6/tkinter/__init__.py\u001b[0m in \u001b[0;36m__init__\u001b[0;34m(self, screenName, baseName, className, useTk, sync, use)\u001b[0m\n\u001b[1;32m   2021\u001b[0m                 \u001b[0mbaseName\u001b[0m \u001b[0;34m=\u001b[0m \u001b[0mbaseName\u001b[0m \u001b[0;34m+\u001b[0m \u001b[0mext\u001b[0m\u001b[0;34m\u001b[0m\u001b[0;34m\u001b[0m\u001b[0m\n\u001b[1;32m   2022\u001b[0m         \u001b[0minteractive\u001b[0m \u001b[0;34m=\u001b[0m \u001b[0;36m0\u001b[0m\u001b[0;34m\u001b[0m\u001b[0;34m\u001b[0m\u001b[0m\n\u001b[0;32m-> 2023\u001b[0;31m         \u001b[0mself\u001b[0m\u001b[0;34m.\u001b[0m\u001b[0mtk\u001b[0m \u001b[0;34m=\u001b[0m \u001b[0m_tkinter\u001b[0m\u001b[0;34m.\u001b[0m\u001b[0mcreate\u001b[0m\u001b[0;34m(\u001b[0m\u001b[0mscreenName\u001b[0m\u001b[0;34m,\u001b[0m \u001b[0mbaseName\u001b[0m\u001b[0;34m,\u001b[0m \u001b[0mclassName\u001b[0m\u001b[0;34m,\u001b[0m \u001b[0minteractive\u001b[0m\u001b[0;34m,\u001b[0m \u001b[0mwantobjects\u001b[0m\u001b[0;34m,\u001b[0m \u001b[0museTk\u001b[0m\u001b[0;34m,\u001b[0m \u001b[0msync\u001b[0m\u001b[0;34m,\u001b[0m \u001b[0muse\u001b[0m\u001b[0;34m)\u001b[0m\u001b[0;34m\u001b[0m\u001b[0;34m\u001b[0m\u001b[0m\n\u001b[0m\u001b[1;32m   2024\u001b[0m         \u001b[0;32mif\u001b[0m \u001b[0museTk\u001b[0m\u001b[0;34m:\u001b[0m\u001b[0;34m\u001b[0m\u001b[0;34m\u001b[0m\u001b[0m\n\u001b[1;32m   2025\u001b[0m             \u001b[0mself\u001b[0m\u001b[0;34m.\u001b[0m\u001b[0m_loadtk\u001b[0m\u001b[0;34m(\u001b[0m\u001b[0;34m)\u001b[0m\u001b[0;34m\u001b[0m\u001b[0;34m\u001b[0m\u001b[0m\n",
            "\u001b[0;31mTclError\u001b[0m: no display name and no $DISPLAY environment variable"
          ]
        }
      ]
    }
  ]
}
